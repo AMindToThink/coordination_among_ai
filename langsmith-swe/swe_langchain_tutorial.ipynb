{
 "cells": [
  {
   "cell_type": "code",
   "execution_count": 1,
   "metadata": {},
   "outputs": [],
   "source": [
    "%load_ext autoreload\n",
    "%autoreload 2\n"
   ]
  },
  {
   "cell_type": "code",
   "execution_count": 1,
   "metadata": {},
   "outputs": [
    {
     "name": "stdout",
     "output_type": "stream",
     "text": [
      "Python path: /Users/matthew.khoriaty/opt/anaconda3/envs/langchain/bin/python\n",
      "Python version: 3.11.11 (main, Dec 11 2024, 10:25:04) [Clang 14.0.6 ]\n",
      "sys.path: ['/Users/matthew.khoriaty/opt/anaconda3/envs/langchain/lib/python311.zip', '/Users/matthew.khoriaty/opt/anaconda3/envs/langchain/lib/python3.11', '/Users/matthew.khoriaty/opt/anaconda3/envs/langchain/lib/python3.11/lib-dynload', '', '/Users/matthew.khoriaty/opt/anaconda3/envs/langchain/lib/python3.11/site-packages']\n",
      "Successfully imported ChatOpenAI\n",
      "content='Hello! How can I assist you today?' additional_kwargs={'refusal': None} response_metadata={'token_usage': {'completion_tokens': 10, 'prompt_tokens': 11, 'total_tokens': 21, 'completion_tokens_details': {'accepted_prediction_tokens': 0, 'audio_tokens': 0, 'reasoning_tokens': 0, 'rejected_prediction_tokens': 0}, 'prompt_tokens_details': {'audio_tokens': 0, 'cached_tokens': 0}}, 'model_name': 'gpt-3.5-turbo-0125', 'system_fingerprint': None, 'finish_reason': 'stop', 'logprobs': None} id='run-ab8322b3-9e93-424d-8249-cfda0b096c4b-0' usage_metadata={'input_tokens': 11, 'output_tokens': 10, 'total_tokens': 21, 'input_token_details': {'audio': 0, 'cache_read': 0}, 'output_token_details': {'audio': 0, 'reasoning': 0}}\n"
     ]
    }
   ],
   "source": [
    "# import sys\n",
    "# import os\n",
    "\n",
    "# # Print debugging information\n",
    "# print(f\"Python path: {sys.executable}\")\n",
    "# print(f\"Python version: {sys.version}\")\n",
    "# print(f\"sys.path: {sys.path}\")\n",
    "\n",
    "# try:\n",
    "#     from langchain_openai import ChatOpenAI\n",
    "#     print(\"Successfully imported ChatOpenAI\")\n",
    "# except ImportError as e:\n",
    "#     print(f\"Import error: {e}\")\n",
    "#     print(\"Try running: pip install langchain-openai\")\n",
    "#     sys.exit(1)\n",
    "\n",
    "# # Initialize the ChatOpenAI instance with your API key\n",
    "# llm = ChatOpenAI(\n",
    "#     api_key=os.environ.get(\"OPENAI_API_KEY\")\n",
    "# )\n",
    "\n",
    "# # Test the chat\n",
    "# response = llm.invoke(\"Hello, world!\")\n",
    "# print(response)"
   ]
  },
  {
   "cell_type": "code",
   "execution_count": 11,
   "metadata": {},
   "outputs": [],
   "source": []
  },
  {
   "cell_type": "code",
   "execution_count": 17,
   "metadata": {},
   "outputs": [],
   "source": [
    "# Convert Dataset to pandas DataFrame to allow item assignment\n",
    "# df = df.to_pandas()\n",
    "def make_dataset_csv():\n",
    "    import pandas as pd\n",
    "\n",
    "    # splits = {'dev': 'data/dev-00000-of-00001.parquet', 'test': 'data/test-00000-of-00001.parquet', 'train': 'data/train-00000-of-00001.parquet'}\n",
    "    # df = pd.read_parquet(\"hf://datasets/princeton-nlp/SWE-bench/\" + splits[\"dev\"])\n",
    "    from datasets import load_dataset\n",
    "\n",
    "    ds = load_dataset(\"princeton-nlp/SWE-bench\")\n",
    "    df = ds['dev']\n",
    "    df['version'] = df['version'].apply(lambda x: f\"version:{x}\")\n",
    "    df.to_csv(\"SWE-bench.csv\",index=False)"
   ]
  },
  {
   "cell_type": "code",
   "execution_count": 19,
   "metadata": {},
   "outputs": [],
   "source": []
  },
  {
   "cell_type": "code",
   "execution_count": 3,
   "metadata": {},
   "outputs": [],
   "source": [
    "from langsmith import evaluate\n",
    "from langsmith import Client\n",
    "\n",
    "client = Client()\n",
    "\n",
    "def predict(inputs: dict):\n",
    "    return {\"instance_id\":inputs['instance_id'],\"model_patch\":\"None\",\"model_name_or_path\":\"test-model\"}\n"
   ]
  },
  {
   "cell_type": "code",
   "execution_count": 4,
   "metadata": {},
   "outputs": [
    {
     "name": "stderr",
     "output_type": "stream",
     "text": [
      "/Users/matthew.khoriaty/opt/anaconda3/envs/langchain/lib/python3.11/site-packages/tqdm/auto.py:21: TqdmWarning: IProgress not found. Please update jupyter and ipywidgets. See https://ipywidgets.readthedocs.io/en/stable/user_install.html\n",
      "  from .autonotebook import tqdm as notebook_tqdm\n"
     ]
    },
    {
     "name": "stdout",
     "output_type": "stream",
     "text": [
      "View the evaluation results for experiment: 'crazy-grass-94' at:\n",
      "https://smith.langchain.com/o/22d9505f-5add-45d4-84e0-97f2aa494e0d/datasets/58c8677a-00fa-47c2-89b4-941cb09a47be/compare?selectedSessions=33849ff4-eb5d-4f87-a574-c6188e4be792\n",
      "\n",
      "\n"
     ]
    },
    {
     "name": "stderr",
     "output_type": "stream",
     "text": [
      "225it [00:01, 206.04it/s]\n"
     ]
    }
   ],
   "source": [
    "\n",
    "result = evaluate(\n",
    "    predict,\n",
    "    data=client.list_examples(dataset_id=\"58c8677a-00fa-47c2-89b4-941cb09a47be\"),\n",
    ")"
   ]
  },
  {
   "cell_type": "code",
   "execution_count": 5,
   "metadata": {},
   "outputs": [
    {
     "name": "stderr",
     "output_type": "stream",
     "text": [
      "2025-02-11 20:59:53,883 - numexpr.utils - INFO - NumExpr defaulting to 10 threads.\n"
     ]
    }
   ],
   "source": [
    "from swebench.harness.run_evaluation import run_instances\n",
    "import resource\n",
    "import docker\n",
    "from swebench.harness.docker_utils import list_images, clean_images\n",
    "from swebench.harness.docker_build import build_env_images\n",
    "from pathlib import Path\n",
    "import json\n",
    "import os\n",
    "\n",
    "RUN_EVALUATION_LOG_DIR = Path(\"logs/run_evaluation\")\n",
    "LANGSMITH_EVALUATION_DIR = './langsmith_feedback/feedback.json'\n",
    "\n",
    "def convert_runs_to_langsmith_feedback(\n",
    "        predictions: dict,\n",
    "        full_dataset: list,\n",
    "        run_id: str\n",
    "    ) -> float:\n",
    "    \"\"\"\n",
    "    Convert logs from docker containers into LangSmith feedback.\n",
    "\n",
    "    Args:\n",
    "        predictions (dict): Predictions dict generated by the model\n",
    "        full_dataset (list): List of all instances\n",
    "        run_id (str): Run ID\n",
    "    \"\"\"\n",
    "    feedback_for_all_instances = {}\n",
    "\n",
    "    for instance in full_dataset:\n",
    "        feedback_for_instance = []\n",
    "        instance_id = instance['instance_id']\n",
    "        prediction = predictions[instance_id]\n",
    "        if prediction.get(\"model_patch\", None) in [\"\", None]:\n",
    "            # Prediction returned an empty patch\n",
    "            feedback_for_all_instances[prediction['run_id']] = [{\"key\":\"non-empty-patch\",\"score\":0},\n",
    "                                                                {\"key\":\"completed-patch\",\"score\":0},\n",
    "                                                                {\"key\":\"resolved-patch\",\"score\":0}]\n",
    "            continue\n",
    "        feedback_for_instance.append({\"key\":\"non-empty-patch\",\"score\":1})\n",
    "        report_file = (\n",
    "            RUN_EVALUATION_LOG_DIR\n",
    "            / run_id\n",
    "            / prediction[\"model_name_or_path\"].replace(\"/\", \"__\")\n",
    "            / prediction['instance_id']\n",
    "            / \"report.json\"\n",
    "        )\n",
    "        if report_file.exists():\n",
    "            # If report file exists, then the instance has been run\n",
    "            feedback_for_instance.append({\"key\":\"completed-patch\",\"score\":1})\n",
    "            report = json.loads(report_file.read_text())\n",
    "            # Check if instance actually resolved the PR\n",
    "            if report[instance_id][\"resolved\"]:\n",
    "                feedback_for_instance.append({\"key\":\"resolved-patch\",\"score\":1})\n",
    "            else:\n",
    "                feedback_for_instance.append({\"key\":\"resolved-patch\",\"score\":0})\n",
    "        else:\n",
    "            # The instance did not run successfully\n",
    "            feedback_for_instance += [{\"key\":\"completed-patch\",\"score\":0},{\"key\":\"resolved-patch\",\"score\":0}]\n",
    "        feedback_for_all_instances[prediction['run_id']] = feedback_for_instance\n",
    "\n",
    "    os.makedirs(os.path.dirname(LANGSMITH_EVALUATION_DIR), exist_ok=True)\n",
    "    with open(LANGSMITH_EVALUATION_DIR, 'w') as json_file:\n",
    "        json.dump(feedback_for_all_instances, json_file)\n",
    "\n",
    "def evaluate_predictions(\n",
    "        dataset: list,\n",
    "        predictions: list,\n",
    "        max_workers: int,\n",
    "        force_rebuild: bool,\n",
    "        cache_level: str,\n",
    "        clean: bool,\n",
    "        open_file_limit: int,\n",
    "        run_id: str,\n",
    "        timeout: int,\n",
    "    ):\n",
    "    \"\"\"\n",
    "    Run evaluation harness for the given dataset and predictions.\n",
    "    \"\"\"\n",
    "    # set open file limit\n",
    "    assert len(run_id) > 0, \"Run ID must be provided\"\n",
    "    resource.setrlimit(resource.RLIMIT_NOFILE, (open_file_limit, open_file_limit))\n",
    "    client = docker.from_env()\n",
    "\n",
    "    existing_images = list_images(client)\n",
    "    print(f\"Running {len(dataset)} unevaluated instances...\")\n",
    "    # build environment images + run instances\n",
    "    build_env_images(client, dataset, force_rebuild, max_workers)\n",
    "    run_instances(predictions, dataset, cache_level, clean, force_rebuild, max_workers, run_id, timeout)\n",
    "\n",
    "    # clean images + make final report\n",
    "    clean_images(client, existing_images, cache_level, clean)\n",
    "\n",
    "    convert_runs_to_langsmith_feedback(predictions,dataset,run_id)"
   ]
  },
  {
   "cell_type": "markdown",
   "metadata": {},
   "source": []
  },
  {
   "cell_type": "code",
   "execution_count": 7,
   "metadata": {},
   "outputs": [],
   "source": [
    "dataset = []\n",
    "predictions = {}\n",
    "for res in result:\n",
    "    predictions[res['run'].outputs['instance_id']] = {**res['run'].outputs,**{\"run_id\":str(res['run'].id)}}\n",
    "    dataset.append(res['run'].inputs['inputs'])\n",
    "for d in dataset:\n",
    "    d['version'] = d['version'].split(\":\")[1]"
   ]
  },
  {
   "cell_type": "code",
   "execution_count": null,
   "metadata": {},
   "outputs": [],
   "source": []
  },
  {
   "cell_type": "code",
   "execution_count": null,
   "metadata": {},
   "outputs": [
    {
     "name": "stdout",
     "output_type": "stream",
     "text": [
      "Running 225 unevaluated instances...\n",
      "Building base image (sweb.base.py.arm64:latest)\n",
      "Base images built successfully.\n",
      "Total environment images to build: 22\n"
     ]
    },
    {
     "name": "stderr",
     "output_type": "stream",
     "text": [
      "  0%|          | 0/22 [00:00<?, ?it/s]"
     ]
    },
    {
     "name": "stdout",
     "output_type": "stream",
     "text": [
      "<class 'swebench.harness.docker_build.BuildImageError'>: Error building image sweb.env.py.arm64.e10d470400e85820f705a6:latest: The command '/bin/sh -c /bin/bash -c \"source ~/.bashrc && /root/setup_env.sh\"' returned a non-zero code: 137\n",
      "Check (logs/build_images/env/sweb.env.py.arm64.e10d470400e85820f705a6__latest/build_image.log) for more information.\n"
     ]
    },
    {
     "name": "stderr",
     "output_type": "stream",
     "text": [
      "Traceback (most recent call last):\n",
      "  File \"/Users/matthew.khoriaty/Desktop/research/coordination_among_ai/SWE-bench/swebench/harness/docker_build.py\", line 155, in build_image\n",
      "    raise docker.errors.BuildError(\n",
      "docker.errors.BuildError: The command '/bin/sh -c /bin/bash -c \"source ~/.bashrc && /root/setup_env.sh\"' returned a non-zero code: 137\n",
      "\n",
      "The above exception was the direct cause of the following exception:\n",
      "\n",
      "Traceback (most recent call last):\n",
      "  File \"/Users/matthew.khoriaty/Desktop/research/coordination_among_ai/SWE-bench/swebench/harness/utils.py\", line 92, in run_threadpool\n",
      "    future.result()\n",
      "  File \"/Users/matthew.khoriaty/opt/anaconda3/envs/langchain/lib/python3.11/concurrent/futures/_base.py\", line 449, in result\n",
      "    return self.__get_result()\n",
      "           ^^^^^^^^^^^^^^^^^^^\n",
      "  File \"/Users/matthew.khoriaty/opt/anaconda3/envs/langchain/lib/python3.11/concurrent/futures/_base.py\", line 401, in __get_result\n",
      "    raise self._exception\n",
      "  File \"/Users/matthew.khoriaty/opt/anaconda3/envs/langchain/lib/python3.11/concurrent/futures/thread.py\", line 58, in run\n",
      "    result = self.fn(*self.args, **self.kwargs)\n",
      "             ^^^^^^^^^^^^^^^^^^^^^^^^^^^^^^^^^^\n",
      "  File \"/Users/matthew.khoriaty/Desktop/research/coordination_among_ai/SWE-bench/swebench/harness/docker_build.py\", line 161, in build_image\n",
      "    raise BuildImageError(image_name, str(e), logger) from e\n",
      "swebench.harness.docker_build.BuildImageError: Error building image sweb.env.py.arm64.e10d470400e85820f705a6:latest: The command '/bin/sh -c /bin/bash -c \"source ~/.bashrc && /root/setup_env.sh\"' returned a non-zero code: 137\n",
      "Check (logs/build_images/env/sweb.env.py.arm64.e10d470400e85820f705a6__latest/build_image.log) for more information.\n"
     ]
    },
    {
     "name": "stdout",
     "output_type": "stream",
     "text": [
      "<class 'swebench.harness.docker_build.BuildImageError'>: Error building image sweb.env.py.arm64.7b20504f50e05a8acff8b8:latest: The command '/bin/sh -c /bin/bash -c \"source ~/.bashrc && /root/setup_env.sh\"' returned a non-zero code: 137\n",
      "Check (logs/build_images/env/sweb.env.py.arm64.7b20504f50e05a8acff8b8__latest/build_image.log) for more information.\n"
     ]
    },
    {
     "name": "stderr",
     "output_type": "stream",
     "text": [
      "Traceback (most recent call last):\n",
      "  File \"/Users/matthew.khoriaty/Desktop/research/coordination_among_ai/SWE-bench/swebench/harness/docker_build.py\", line 155, in build_image\n",
      "    raise docker.errors.BuildError(\n",
      "docker.errors.BuildError: The command '/bin/sh -c /bin/bash -c \"source ~/.bashrc && /root/setup_env.sh\"' returned a non-zero code: 137\n",
      "\n",
      "The above exception was the direct cause of the following exception:\n",
      "\n",
      "Traceback (most recent call last):\n",
      "  File \"/Users/matthew.khoriaty/Desktop/research/coordination_among_ai/SWE-bench/swebench/harness/utils.py\", line 92, in run_threadpool\n",
      "    future.result()\n",
      "  File \"/Users/matthew.khoriaty/opt/anaconda3/envs/langchain/lib/python3.11/concurrent/futures/_base.py\", line 449, in result\n",
      "    return self.__get_result()\n",
      "           ^^^^^^^^^^^^^^^^^^^\n",
      "  File \"/Users/matthew.khoriaty/opt/anaconda3/envs/langchain/lib/python3.11/concurrent/futures/_base.py\", line 401, in __get_result\n",
      "    raise self._exception\n",
      "  File \"/Users/matthew.khoriaty/opt/anaconda3/envs/langchain/lib/python3.11/concurrent/futures/thread.py\", line 58, in run\n",
      "    result = self.fn(*self.args, **self.kwargs)\n",
      "             ^^^^^^^^^^^^^^^^^^^^^^^^^^^^^^^^^^\n",
      "  File \"/Users/matthew.khoriaty/Desktop/research/coordination_among_ai/SWE-bench/swebench/harness/docker_build.py\", line 161, in build_image\n",
      "    raise BuildImageError(image_name, str(e), logger) from e\n",
      "swebench.harness.docker_build.BuildImageError: Error building image sweb.env.py.arm64.7b20504f50e05a8acff8b8:latest: The command '/bin/sh -c /bin/bash -c \"source ~/.bashrc && /root/setup_env.sh\"' returned a non-zero code: 137\n",
      "Check (logs/build_images/env/sweb.env.py.arm64.7b20504f50e05a8acff8b8__latest/build_image.log) for more information.\n"
     ]
    },
    {
     "name": "stdout",
     "output_type": "stream",
     "text": [
      "<class 'swebench.harness.docker_build.BuildImageError'>: Error building image sweb.env.py.arm64.29aad5585e028b8a740f79:latest: The command '/bin/sh -c /bin/bash -c \"source ~/.bashrc && /root/setup_env.sh\"' returned a non-zero code: 1\n",
      "Check (logs/build_images/env/sweb.env.py.arm64.29aad5585e028b8a740f79__latest/build_image.log) for more information.\n"
     ]
    },
    {
     "name": "stderr",
     "output_type": "stream",
     "text": [
      "Traceback (most recent call last):\n",
      "  File \"/Users/matthew.khoriaty/Desktop/research/coordination_among_ai/SWE-bench/swebench/harness/docker_build.py\", line 155, in build_image\n",
      "    raise docker.errors.BuildError(\n",
      "docker.errors.BuildError: The command '/bin/sh -c /bin/bash -c \"source ~/.bashrc && /root/setup_env.sh\"' returned a non-zero code: 1\n",
      "\n",
      "The above exception was the direct cause of the following exception:\n",
      "\n",
      "Traceback (most recent call last):\n",
      "  File \"/Users/matthew.khoriaty/Desktop/research/coordination_among_ai/SWE-bench/swebench/harness/utils.py\", line 92, in run_threadpool\n",
      "    future.result()\n",
      "  File \"/Users/matthew.khoriaty/opt/anaconda3/envs/langchain/lib/python3.11/concurrent/futures/_base.py\", line 449, in result\n",
      "    return self.__get_result()\n",
      "           ^^^^^^^^^^^^^^^^^^^\n",
      "  File \"/Users/matthew.khoriaty/opt/anaconda3/envs/langchain/lib/python3.11/concurrent/futures/_base.py\", line 401, in __get_result\n",
      "    raise self._exception\n",
      "  File \"/Users/matthew.khoriaty/opt/anaconda3/envs/langchain/lib/python3.11/concurrent/futures/thread.py\", line 58, in run\n",
      "    result = self.fn(*self.args, **self.kwargs)\n",
      "             ^^^^^^^^^^^^^^^^^^^^^^^^^^^^^^^^^^\n",
      "  File \"/Users/matthew.khoriaty/Desktop/research/coordination_among_ai/SWE-bench/swebench/harness/docker_build.py\", line 161, in build_image\n",
      "    raise BuildImageError(image_name, str(e), logger) from e\n",
      "swebench.harness.docker_build.BuildImageError: Error building image sweb.env.py.arm64.29aad5585e028b8a740f79:latest: The command '/bin/sh -c /bin/bash -c \"source ~/.bashrc && /root/setup_env.sh\"' returned a non-zero code: 1\n",
      "Check (logs/build_images/env/sweb.env.py.arm64.29aad5585e028b8a740f79__latest/build_image.log) for more information.\n"
     ]
    },
    {
     "name": "stdout",
     "output_type": "stream",
     "text": [
      "<class 'swebench.harness.docker_build.BuildImageError'>: Error building image sweb.env.py.arm64.f8f7816be1e30e5ea7547a:latest: The command '/bin/sh -c /bin/bash -c \"source ~/.bashrc && /root/setup_env.sh\"' returned a non-zero code: 1\n",
      "Check (logs/build_images/env/sweb.env.py.arm64.f8f7816be1e30e5ea7547a__latest/build_image.log) for more information.\n"
     ]
    },
    {
     "name": "stderr",
     "output_type": "stream",
     "text": [
      "Traceback (most recent call last):\n",
      "  File \"/Users/matthew.khoriaty/Desktop/research/coordination_among_ai/SWE-bench/swebench/harness/docker_build.py\", line 155, in build_image\n",
      "    raise docker.errors.BuildError(\n",
      "docker.errors.BuildError: The command '/bin/sh -c /bin/bash -c \"source ~/.bashrc && /root/setup_env.sh\"' returned a non-zero code: 1\n",
      "\n",
      "The above exception was the direct cause of the following exception:\n",
      "\n",
      "Traceback (most recent call last):\n",
      "  File \"/Users/matthew.khoriaty/Desktop/research/coordination_among_ai/SWE-bench/swebench/harness/utils.py\", line 92, in run_threadpool\n",
      "    future.result()\n",
      "  File \"/Users/matthew.khoriaty/opt/anaconda3/envs/langchain/lib/python3.11/concurrent/futures/_base.py\", line 449, in result\n",
      "    return self.__get_result()\n",
      "           ^^^^^^^^^^^^^^^^^^^\n",
      "  File \"/Users/matthew.khoriaty/opt/anaconda3/envs/langchain/lib/python3.11/concurrent/futures/_base.py\", line 401, in __get_result\n",
      "    raise self._exception\n",
      "  File \"/Users/matthew.khoriaty/opt/anaconda3/envs/langchain/lib/python3.11/concurrent/futures/thread.py\", line 58, in run\n",
      "    result = self.fn(*self.args, **self.kwargs)\n",
      "             ^^^^^^^^^^^^^^^^^^^^^^^^^^^^^^^^^^\n",
      "  File \"/Users/matthew.khoriaty/Desktop/research/coordination_among_ai/SWE-bench/swebench/harness/docker_build.py\", line 161, in build_image\n",
      "    raise BuildImageError(image_name, str(e), logger) from e\n",
      "swebench.harness.docker_build.BuildImageError: Error building image sweb.env.py.arm64.f8f7816be1e30e5ea7547a:latest: The command '/bin/sh -c /bin/bash -c \"source ~/.bashrc && /root/setup_env.sh\"' returned a non-zero code: 1\n",
      "Check (logs/build_images/env/sweb.env.py.arm64.f8f7816be1e30e5ea7547a__latest/build_image.log) for more information.\n"
     ]
    },
    {
     "name": "stdout",
     "output_type": "stream",
     "text": [
      "<class 'swebench.harness.docker_build.BuildImageError'>: Error building image sweb.env.py.arm64.f20d9b03bf8132fc330f6f:latest: The command '/bin/sh -c /bin/bash -c \"source ~/.bashrc && /root/setup_env.sh\"' returned a non-zero code: 1\n",
      "Check (logs/build_images/env/sweb.env.py.arm64.f20d9b03bf8132fc330f6f__latest/build_image.log) for more information.\n"
     ]
    },
    {
     "name": "stderr",
     "output_type": "stream",
     "text": [
      "Traceback (most recent call last):\n",
      "  File \"/Users/matthew.khoriaty/Desktop/research/coordination_among_ai/SWE-bench/swebench/harness/docker_build.py\", line 155, in build_image\n",
      "    raise docker.errors.BuildError(\n",
      "docker.errors.BuildError: The command '/bin/sh -c /bin/bash -c \"source ~/.bashrc && /root/setup_env.sh\"' returned a non-zero code: 1\n",
      "\n",
      "The above exception was the direct cause of the following exception:\n",
      "\n",
      "Traceback (most recent call last):\n",
      "  File \"/Users/matthew.khoriaty/Desktop/research/coordination_among_ai/SWE-bench/swebench/harness/utils.py\", line 92, in run_threadpool\n",
      "    future.result()\n",
      "  File \"/Users/matthew.khoriaty/opt/anaconda3/envs/langchain/lib/python3.11/concurrent/futures/_base.py\", line 449, in result\n",
      "    return self.__get_result()\n",
      "           ^^^^^^^^^^^^^^^^^^^\n",
      "  File \"/Users/matthew.khoriaty/opt/anaconda3/envs/langchain/lib/python3.11/concurrent/futures/_base.py\", line 401, in __get_result\n",
      "    raise self._exception\n",
      "  File \"/Users/matthew.khoriaty/opt/anaconda3/envs/langchain/lib/python3.11/concurrent/futures/thread.py\", line 58, in run\n",
      "    result = self.fn(*self.args, **self.kwargs)\n",
      "             ^^^^^^^^^^^^^^^^^^^^^^^^^^^^^^^^^^\n",
      "  File \"/Users/matthew.khoriaty/Desktop/research/coordination_among_ai/SWE-bench/swebench/harness/docker_build.py\", line 161, in build_image\n",
      "    raise BuildImageError(image_name, str(e), logger) from e\n",
      "swebench.harness.docker_build.BuildImageError: Error building image sweb.env.py.arm64.f20d9b03bf8132fc330f6f:latest: The command '/bin/sh -c /bin/bash -c \"source ~/.bashrc && /root/setup_env.sh\"' returned a non-zero code: 1\n",
      "Check (logs/build_images/env/sweb.env.py.arm64.f20d9b03bf8132fc330f6f__latest/build_image.log) for more information.\n"
     ]
    },
    {
     "name": "stdout",
     "output_type": "stream",
     "text": [
      "<class 'swebench.harness.docker_build.BuildImageError'>: Error building image sweb.env.py.arm64.63ba17657a55525251ae86:latest: The command '/bin/sh -c /bin/bash -c \"source ~/.bashrc && /root/setup_env.sh\"' returned a non-zero code: 1\n",
      "Check (logs/build_images/env/sweb.env.py.arm64.63ba17657a55525251ae86__latest/build_image.log) for more information.\n"
     ]
    },
    {
     "name": "stderr",
     "output_type": "stream",
     "text": [
      "Traceback (most recent call last):\n",
      "  File \"/Users/matthew.khoriaty/Desktop/research/coordination_among_ai/SWE-bench/swebench/harness/docker_build.py\", line 155, in build_image\n",
      "    raise docker.errors.BuildError(\n",
      "docker.errors.BuildError: The command '/bin/sh -c /bin/bash -c \"source ~/.bashrc && /root/setup_env.sh\"' returned a non-zero code: 1\n",
      "\n",
      "The above exception was the direct cause of the following exception:\n",
      "\n",
      "Traceback (most recent call last):\n",
      "  File \"/Users/matthew.khoriaty/Desktop/research/coordination_among_ai/SWE-bench/swebench/harness/utils.py\", line 92, in run_threadpool\n",
      "    future.result()\n",
      "  File \"/Users/matthew.khoriaty/opt/anaconda3/envs/langchain/lib/python3.11/concurrent/futures/_base.py\", line 449, in result\n",
      "    return self.__get_result()\n",
      "           ^^^^^^^^^^^^^^^^^^^\n",
      "  File \"/Users/matthew.khoriaty/opt/anaconda3/envs/langchain/lib/python3.11/concurrent/futures/_base.py\", line 401, in __get_result\n",
      "    raise self._exception\n",
      "  File \"/Users/matthew.khoriaty/opt/anaconda3/envs/langchain/lib/python3.11/concurrent/futures/thread.py\", line 58, in run\n",
      "    result = self.fn(*self.args, **self.kwargs)\n",
      "             ^^^^^^^^^^^^^^^^^^^^^^^^^^^^^^^^^^\n",
      "  File \"/Users/matthew.khoriaty/Desktop/research/coordination_among_ai/SWE-bench/swebench/harness/docker_build.py\", line 161, in build_image\n",
      "    raise BuildImageError(image_name, str(e), logger) from e\n",
      "swebench.harness.docker_build.BuildImageError: Error building image sweb.env.py.arm64.63ba17657a55525251ae86:latest: The command '/bin/sh -c /bin/bash -c \"source ~/.bashrc && /root/setup_env.sh\"' returned a non-zero code: 1\n",
      "Check (logs/build_images/env/sweb.env.py.arm64.63ba17657a55525251ae86__latest/build_image.log) for more information.\n",
      "3 ran successfully, 6 failed:  14%|█▎        | 3/22 [01:20<08:31, 26.90s/it]"
     ]
    },
    {
     "name": "stdout",
     "output_type": "stream",
     "text": [
      "<class 'swebench.harness.docker_build.BuildImageError'>: Error building image sweb.env.py.arm64.a8ec47660ad6d0c55a2774:latest: The command '/bin/sh -c /bin/bash -c \"source ~/.bashrc && /root/setup_env.sh\"' returned a non-zero code: 137\n",
      "Check (logs/build_images/env/sweb.env.py.arm64.a8ec47660ad6d0c55a2774__latest/build_image.log) for more information.\n"
     ]
    },
    {
     "name": "stderr",
     "output_type": "stream",
     "text": [
      "Traceback (most recent call last):\n",
      "  File \"/Users/matthew.khoriaty/Desktop/research/coordination_among_ai/SWE-bench/swebench/harness/docker_build.py\", line 155, in build_image\n",
      "    raise docker.errors.BuildError(\n",
      "docker.errors.BuildError: The command '/bin/sh -c /bin/bash -c \"source ~/.bashrc && /root/setup_env.sh\"' returned a non-zero code: 137\n",
      "\n",
      "The above exception was the direct cause of the following exception:\n",
      "\n",
      "Traceback (most recent call last):\n",
      "  File \"/Users/matthew.khoriaty/Desktop/research/coordination_among_ai/SWE-bench/swebench/harness/utils.py\", line 92, in run_threadpool\n",
      "    future.result()\n",
      "  File \"/Users/matthew.khoriaty/opt/anaconda3/envs/langchain/lib/python3.11/concurrent/futures/_base.py\", line 449, in result\n",
      "    return self.__get_result()\n",
      "           ^^^^^^^^^^^^^^^^^^^\n",
      "  File \"/Users/matthew.khoriaty/opt/anaconda3/envs/langchain/lib/python3.11/concurrent/futures/_base.py\", line 401, in __get_result\n",
      "    raise self._exception\n",
      "  File \"/Users/matthew.khoriaty/opt/anaconda3/envs/langchain/lib/python3.11/concurrent/futures/thread.py\", line 58, in run\n",
      "    result = self.fn(*self.args, **self.kwargs)\n",
      "             ^^^^^^^^^^^^^^^^^^^^^^^^^^^^^^^^^^\n",
      "  File \"/Users/matthew.khoriaty/Desktop/research/coordination_among_ai/SWE-bench/swebench/harness/docker_build.py\", line 161, in build_image\n",
      "    raise BuildImageError(image_name, str(e), logger) from e\n",
      "swebench.harness.docker_build.BuildImageError: Error building image sweb.env.py.arm64.a8ec47660ad6d0c55a2774:latest: The command '/bin/sh -c /bin/bash -c \"source ~/.bashrc && /root/setup_env.sh\"' returned a non-zero code: 137\n",
      "Check (logs/build_images/env/sweb.env.py.arm64.a8ec47660ad6d0c55a2774__latest/build_image.log) for more information.\n"
     ]
    },
    {
     "name": "stdout",
     "output_type": "stream",
     "text": [
      "<class 'swebench.harness.docker_build.BuildImageError'>: Error building image sweb.env.py.arm64.5de279731465e10168c879:latest: The command '/bin/sh -c /bin/bash -c \"source ~/.bashrc && /root/setup_env.sh\"' returned a non-zero code: 137\n",
      "Check (logs/build_images/env/sweb.env.py.arm64.5de279731465e10168c879__latest/build_image.log) for more information.\n"
     ]
    },
    {
     "name": "stderr",
     "output_type": "stream",
     "text": [
      "Traceback (most recent call last):\n",
      "  File \"/Users/matthew.khoriaty/Desktop/research/coordination_among_ai/SWE-bench/swebench/harness/docker_build.py\", line 155, in build_image\n",
      "    raise docker.errors.BuildError(\n",
      "docker.errors.BuildError: The command '/bin/sh -c /bin/bash -c \"source ~/.bashrc && /root/setup_env.sh\"' returned a non-zero code: 137\n",
      "\n",
      "The above exception was the direct cause of the following exception:\n",
      "\n",
      "Traceback (most recent call last):\n",
      "  File \"/Users/matthew.khoriaty/Desktop/research/coordination_among_ai/SWE-bench/swebench/harness/utils.py\", line 92, in run_threadpool\n",
      "    future.result()\n",
      "  File \"/Users/matthew.khoriaty/opt/anaconda3/envs/langchain/lib/python3.11/concurrent/futures/_base.py\", line 449, in result\n",
      "    return self.__get_result()\n",
      "           ^^^^^^^^^^^^^^^^^^^\n",
      "  File \"/Users/matthew.khoriaty/opt/anaconda3/envs/langchain/lib/python3.11/concurrent/futures/_base.py\", line 401, in __get_result\n",
      "    raise self._exception\n",
      "  File \"/Users/matthew.khoriaty/opt/anaconda3/envs/langchain/lib/python3.11/concurrent/futures/thread.py\", line 58, in run\n",
      "    result = self.fn(*self.args, **self.kwargs)\n",
      "             ^^^^^^^^^^^^^^^^^^^^^^^^^^^^^^^^^^\n",
      "  File \"/Users/matthew.khoriaty/Desktop/research/coordination_among_ai/SWE-bench/swebench/harness/docker_build.py\", line 161, in build_image\n",
      "    raise BuildImageError(image_name, str(e), logger) from e\n",
      "swebench.harness.docker_build.BuildImageError: Error building image sweb.env.py.arm64.5de279731465e10168c879:latest: The command '/bin/sh -c /bin/bash -c \"source ~/.bashrc && /root/setup_env.sh\"' returned a non-zero code: 137\n",
      "Check (logs/build_images/env/sweb.env.py.arm64.5de279731465e10168c879__latest/build_image.log) for more information.\n"
     ]
    },
    {
     "name": "stdout",
     "output_type": "stream",
     "text": [
      "<class 'swebench.harness.docker_build.BuildImageError'>: Error building image sweb.env.py.arm64.2f217c8b4490bfa0e2ba14:latest: The command '/bin/sh -c /bin/bash -c \"source ~/.bashrc && /root/setup_env.sh\"' returned a non-zero code: 137\n",
      "Check (logs/build_images/env/sweb.env.py.arm64.2f217c8b4490bfa0e2ba14__latest/build_image.log) for more information.\n"
     ]
    },
    {
     "name": "stderr",
     "output_type": "stream",
     "text": [
      "Traceback (most recent call last):\n",
      "  File \"/Users/matthew.khoriaty/Desktop/research/coordination_among_ai/SWE-bench/swebench/harness/docker_build.py\", line 155, in build_image\n",
      "    raise docker.errors.BuildError(\n",
      "docker.errors.BuildError: The command '/bin/sh -c /bin/bash -c \"source ~/.bashrc && /root/setup_env.sh\"' returned a non-zero code: 137\n",
      "\n",
      "The above exception was the direct cause of the following exception:\n",
      "\n",
      "Traceback (most recent call last):\n",
      "  File \"/Users/matthew.khoriaty/Desktop/research/coordination_among_ai/SWE-bench/swebench/harness/utils.py\", line 92, in run_threadpool\n",
      "    future.result()\n",
      "  File \"/Users/matthew.khoriaty/opt/anaconda3/envs/langchain/lib/python3.11/concurrent/futures/_base.py\", line 449, in result\n",
      "    return self.__get_result()\n",
      "           ^^^^^^^^^^^^^^^^^^^\n",
      "  File \"/Users/matthew.khoriaty/opt/anaconda3/envs/langchain/lib/python3.11/concurrent/futures/_base.py\", line 401, in __get_result\n",
      "    raise self._exception\n",
      "  File \"/Users/matthew.khoriaty/opt/anaconda3/envs/langchain/lib/python3.11/concurrent/futures/thread.py\", line 58, in run\n",
      "    result = self.fn(*self.args, **self.kwargs)\n",
      "             ^^^^^^^^^^^^^^^^^^^^^^^^^^^^^^^^^^\n",
      "  File \"/Users/matthew.khoriaty/Desktop/research/coordination_among_ai/SWE-bench/swebench/harness/docker_build.py\", line 161, in build_image\n",
      "    raise BuildImageError(image_name, str(e), logger) from e\n",
      "swebench.harness.docker_build.BuildImageError: Error building image sweb.env.py.arm64.2f217c8b4490bfa0e2ba14:latest: The command '/bin/sh -c /bin/bash -c \"source ~/.bashrc && /root/setup_env.sh\"' returned a non-zero code: 137\n",
      "Check (logs/build_images/env/sweb.env.py.arm64.2f217c8b4490bfa0e2ba14__latest/build_image.log) for more information.\n"
     ]
    },
    {
     "name": "stdout",
     "output_type": "stream",
     "text": [
      "<class 'swebench.harness.docker_build.BuildImageError'>: Error building image sweb.env.py.arm64.e2cbe0c96b2e87e485ef13:latest: The command '/bin/sh -c /bin/bash -c \"source ~/.bashrc && /root/setup_env.sh\"' returned a non-zero code: 1\n",
      "Check (logs/build_images/env/sweb.env.py.arm64.e2cbe0c96b2e87e485ef13__latest/build_image.log) for more information.\n"
     ]
    },
    {
     "name": "stderr",
     "output_type": "stream",
     "text": [
      "Traceback (most recent call last):\n",
      "  File \"/Users/matthew.khoriaty/Desktop/research/coordination_among_ai/SWE-bench/swebench/harness/docker_build.py\", line 155, in build_image\n",
      "    raise docker.errors.BuildError(\n",
      "docker.errors.BuildError: The command '/bin/sh -c /bin/bash -c \"source ~/.bashrc && /root/setup_env.sh\"' returned a non-zero code: 1\n",
      "\n",
      "The above exception was the direct cause of the following exception:\n",
      "\n",
      "Traceback (most recent call last):\n",
      "  File \"/Users/matthew.khoriaty/Desktop/research/coordination_among_ai/SWE-bench/swebench/harness/utils.py\", line 92, in run_threadpool\n",
      "    future.result()\n",
      "  File \"/Users/matthew.khoriaty/opt/anaconda3/envs/langchain/lib/python3.11/concurrent/futures/_base.py\", line 449, in result\n",
      "    return self.__get_result()\n",
      "           ^^^^^^^^^^^^^^^^^^^\n",
      "  File \"/Users/matthew.khoriaty/opt/anaconda3/envs/langchain/lib/python3.11/concurrent/futures/_base.py\", line 401, in __get_result\n",
      "    raise self._exception\n",
      "  File \"/Users/matthew.khoriaty/opt/anaconda3/envs/langchain/lib/python3.11/concurrent/futures/thread.py\", line 58, in run\n",
      "    result = self.fn(*self.args, **self.kwargs)\n",
      "             ^^^^^^^^^^^^^^^^^^^^^^^^^^^^^^^^^^\n",
      "  File \"/Users/matthew.khoriaty/Desktop/research/coordination_among_ai/SWE-bench/swebench/harness/docker_build.py\", line 161, in build_image\n",
      "    raise BuildImageError(image_name, str(e), logger) from e\n",
      "swebench.harness.docker_build.BuildImageError: Error building image sweb.env.py.arm64.e2cbe0c96b2e87e485ef13:latest: The command '/bin/sh -c /bin/bash -c \"source ~/.bashrc && /root/setup_env.sh\"' returned a non-zero code: 1\n",
      "Check (logs/build_images/env/sweb.env.py.arm64.e2cbe0c96b2e87e485ef13__latest/build_image.log) for more information.\n"
     ]
    },
    {
     "name": "stdout",
     "output_type": "stream",
     "text": [
      "<class 'swebench.harness.docker_build.BuildImageError'>: Error building image sweb.env.py.arm64.21c198a27f66156c5fdb6e:latest: The command '/bin/sh -c /bin/bash -c \"source ~/.bashrc && /root/setup_env.sh\"' returned a non-zero code: 1\n",
      "Check (logs/build_images/env/sweb.env.py.arm64.21c198a27f66156c5fdb6e__latest/build_image.log) for more information.\n"
     ]
    },
    {
     "name": "stderr",
     "output_type": "stream",
     "text": [
      "Traceback (most recent call last):\n",
      "  File \"/Users/matthew.khoriaty/Desktop/research/coordination_among_ai/SWE-bench/swebench/harness/docker_build.py\", line 155, in build_image\n",
      "    raise docker.errors.BuildError(\n",
      "docker.errors.BuildError: The command '/bin/sh -c /bin/bash -c \"source ~/.bashrc && /root/setup_env.sh\"' returned a non-zero code: 1\n",
      "\n",
      "The above exception was the direct cause of the following exception:\n",
      "\n",
      "Traceback (most recent call last):\n",
      "  File \"/Users/matthew.khoriaty/Desktop/research/coordination_among_ai/SWE-bench/swebench/harness/utils.py\", line 92, in run_threadpool\n",
      "    future.result()\n",
      "  File \"/Users/matthew.khoriaty/opt/anaconda3/envs/langchain/lib/python3.11/concurrent/futures/_base.py\", line 449, in result\n",
      "    return self.__get_result()\n",
      "           ^^^^^^^^^^^^^^^^^^^\n",
      "  File \"/Users/matthew.khoriaty/opt/anaconda3/envs/langchain/lib/python3.11/concurrent/futures/_base.py\", line 401, in __get_result\n",
      "    raise self._exception\n",
      "  File \"/Users/matthew.khoriaty/opt/anaconda3/envs/langchain/lib/python3.11/concurrent/futures/thread.py\", line 58, in run\n",
      "    result = self.fn(*self.args, **self.kwargs)\n",
      "             ^^^^^^^^^^^^^^^^^^^^^^^^^^^^^^^^^^\n",
      "  File \"/Users/matthew.khoriaty/Desktop/research/coordination_among_ai/SWE-bench/swebench/harness/docker_build.py\", line 161, in build_image\n",
      "    raise BuildImageError(image_name, str(e), logger) from e\n",
      "swebench.harness.docker_build.BuildImageError: Error building image sweb.env.py.arm64.21c198a27f66156c5fdb6e:latest: The command '/bin/sh -c /bin/bash -c \"source ~/.bashrc && /root/setup_env.sh\"' returned a non-zero code: 1\n",
      "Check (logs/build_images/env/sweb.env.py.arm64.21c198a27f66156c5fdb6e__latest/build_image.log) for more information.\n"
     ]
    },
    {
     "name": "stdout",
     "output_type": "stream",
     "text": [
      "<class 'swebench.harness.docker_build.BuildImageError'>: Error building image sweb.env.py.arm64.29ea89393f6403e072c9f5:latest: The command '/bin/sh -c /bin/bash -c \"source ~/.bashrc && /root/setup_env.sh\"' returned a non-zero code: 1\n",
      "Check (logs/build_images/env/sweb.env.py.arm64.29ea89393f6403e072c9f5__latest/build_image.log) for more information.\n"
     ]
    },
    {
     "name": "stderr",
     "output_type": "stream",
     "text": [
      "Traceback (most recent call last):\n",
      "  File \"/Users/matthew.khoriaty/Desktop/research/coordination_among_ai/SWE-bench/swebench/harness/docker_build.py\", line 155, in build_image\n",
      "    raise docker.errors.BuildError(\n",
      "docker.errors.BuildError: The command '/bin/sh -c /bin/bash -c \"source ~/.bashrc && /root/setup_env.sh\"' returned a non-zero code: 1\n",
      "\n",
      "The above exception was the direct cause of the following exception:\n",
      "\n",
      "Traceback (most recent call last):\n",
      "  File \"/Users/matthew.khoriaty/Desktop/research/coordination_among_ai/SWE-bench/swebench/harness/utils.py\", line 92, in run_threadpool\n",
      "    future.result()\n",
      "  File \"/Users/matthew.khoriaty/opt/anaconda3/envs/langchain/lib/python3.11/concurrent/futures/_base.py\", line 449, in result\n",
      "    return self.__get_result()\n",
      "           ^^^^^^^^^^^^^^^^^^^\n",
      "  File \"/Users/matthew.khoriaty/opt/anaconda3/envs/langchain/lib/python3.11/concurrent/futures/_base.py\", line 401, in __get_result\n",
      "    raise self._exception\n",
      "  File \"/Users/matthew.khoriaty/opt/anaconda3/envs/langchain/lib/python3.11/concurrent/futures/thread.py\", line 58, in run\n",
      "    result = self.fn(*self.args, **self.kwargs)\n",
      "             ^^^^^^^^^^^^^^^^^^^^^^^^^^^^^^^^^^\n",
      "  File \"/Users/matthew.khoriaty/Desktop/research/coordination_among_ai/SWE-bench/swebench/harness/docker_build.py\", line 161, in build_image\n",
      "    raise BuildImageError(image_name, str(e), logger) from e\n",
      "swebench.harness.docker_build.BuildImageError: Error building image sweb.env.py.arm64.29ea89393f6403e072c9f5:latest: The command '/bin/sh -c /bin/bash -c \"source ~/.bashrc && /root/setup_env.sh\"' returned a non-zero code: 1\n",
      "Check (logs/build_images/env/sweb.env.py.arm64.29ea89393f6403e072c9f5__latest/build_image.log) for more information.\n",
      "5 ran successfully, 12 failed:  23%|██▎       | 5/22 [02:56<09:59, 35.26s/it]"
     ]
    }
   ],
   "source": [
    "evaluate_predictions(dataset[:3],predictions,max_workers=8,force_rebuild=False,cache_level=\"env\",clean=False \\\n",
    "                     ,open_file_limit=4096,run_id=\"test\",timeout=1_800)"
   ]
  },
  {
   "cell_type": "code",
   "execution_count": null,
   "metadata": {},
   "outputs": [],
   "source": []
  }
 ],
 "metadata": {
  "kernelspec": {
   "display_name": "langchain",
   "language": "python",
   "name": "python3"
  },
  "language_info": {
   "codemirror_mode": {
    "name": "ipython",
    "version": 3
   },
   "file_extension": ".py",
   "mimetype": "text/x-python",
   "name": "python",
   "nbconvert_exporter": "python",
   "pygments_lexer": "ipython3",
   "version": "3.11.11"
  }
 },
 "nbformat": 4,
 "nbformat_minor": 2
}
