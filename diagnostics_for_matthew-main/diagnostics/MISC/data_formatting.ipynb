{
 "cells": [
  {
   "cell_type": "code",
   "execution_count": 1,
   "metadata": {},
   "outputs": [],
   "source": [
    "import pandas as pd"
   ]
  },
  {
   "cell_type": "code",
   "execution_count": 63,
   "metadata": {},
   "outputs": [],
   "source": [
    "data1 = pd.read_csv('Users/youngko/Downloads/case_reports_extracted.csv')\n",
    "data2 = pd.read_csv('Users/youngko/Downloads/diagnosis_evaluation_best_prompt_cleaned_reviewed.csv')"
   ]
  },
  {
   "cell_type": "code",
   "execution_count": 62,
   "metadata": {},
   "outputs": [
    {
     "data": {
      "text/plain": [
       "Index(['journal', 'case_id', 'patient_presentation', 'additional_history',\n",
       "       'physical_exam', 'initial_laboratory_results', 'imaging_without_photo',\n",
       "       'imaging_test_with_photo', 'ii_1', 'ii_2', 'ii_3', 'next_imaging',\n",
       "       'ni_1', 'ni_2', 'ni_3', 'third_imaging', 'ti_1', 'ti_2', 'ti_3',\n",
       "       'pathology_available ', 'path_1', 'path_2', 'path_3', 'diagnosis',\n",
       "       'patient_notes', 'diagnosis_notes', 'extra_images', 'ex_1',\n",
       "       'Unnamed: 28', 'Unnamed: 29'],\n",
       "      dtype='object')"
      ]
     },
     "execution_count": 62,
     "metadata": {},
     "output_type": "execute_result"
    }
   ],
   "source": [
    "data1.keys()"
   ]
  },
  {
   "cell_type": "code",
   "execution_count": 64,
   "metadata": {},
   "outputs": [],
   "source": [
    "context_keys = ['patient_presentation', 'additional_history',\n",
    "       'physical_exam', 'initial_laboratory_results', 'imaging_without_photo',\n",
    "       'imaging_test_with_photo', 'ii_1', 'ii_2', 'ii_3', 'next_imaging',\n",
    "       'ni_1', 'ni_2', 'ni_3', 'third_imaging', 'ti_1', 'ti_2', 'ti_3']"
   ]
  },
  {
   "cell_type": "code",
   "execution_count": 65,
   "metadata": {},
   "outputs": [],
   "source": [
    "temp = {\"case_id\":[], \"context\":[], \"diagnosis\":[]}\n",
    "\n",
    "for idx, row in data1.iterrows():\n",
    "    temp[\"case_id\"].append(row[\"case_id\"])\n",
    "    temp[\"diagnosis\"].append(row[\"diagnosis\"])\n",
    "    context = \"\"\n",
    "    row.dropna(inplace=True)\n",
    "    for key in row.keys():\n",
    "        if key in context_keys[:-1]:\n",
    "            context += f\"{key}: {row[key]}\\n\"\n",
    "        elif key == context_keys[-1]:\n",
    "            context += f\"{key}: {row[key]}\"\n",
    "    temp[\"context\"].append(context)\n",
    "\n",
    "temp = pd.DataFrame(temp)"
   ]
  },
  {
   "cell_type": "code",
   "execution_count": 66,
   "metadata": {},
   "outputs": [],
   "source": [
    "temp2 = data2[['case_id', 'COMMON_UNCOMMON']]"
   ]
  },
  {
   "cell_type": "code",
   "execution_count": 67,
   "metadata": {},
   "outputs": [],
   "source": [
    "temp = pd.merge(temp, temp2, on='case_id')"
   ]
  },
  {
   "cell_type": "code",
   "execution_count": 68,
   "metadata": {},
   "outputs": [],
   "source": [
    "temp.to_csv('Users/youngko/Downloads/case_reports_extracted_formatted.csv', index=False)"
   ]
  },
  {
   "cell_type": "code",
   "execution_count": null,
   "metadata": {},
   "outputs": [],
   "source": []
  }
 ],
 "metadata": {
  "kernelspec": {
   "display_name": "diagnosis",
   "language": "python",
   "name": "python3"
  },
  "language_info": {
   "codemirror_mode": {
    "name": "ipython",
    "version": 3
   },
   "file_extension": ".py",
   "mimetype": "text/x-python",
   "name": "python",
   "nbconvert_exporter": "python",
   "pygments_lexer": "ipython3",
   "version": "3.13.0"
  }
 },
 "nbformat": 4,
 "nbformat_minor": 2
}
